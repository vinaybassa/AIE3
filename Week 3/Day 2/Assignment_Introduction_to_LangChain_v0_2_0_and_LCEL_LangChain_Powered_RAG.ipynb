{
  "nbformat": 4,
  "nbformat_minor": 0,
  "metadata": {
    "colab": {
      "provenance": [],
      "gpuType": "T4",
      "machine_shape": "hm"
    },
    "kernelspec": {
      "name": "python3",
      "display_name": "Python 3"
    },
    "language_info": {
      "name": "python"
    },
    "accelerator": "GPU"
  },
  "cells": [
    {
      "cell_type": "markdown",
      "source": [
        "# Introduction to LangChain v0.2.0 and LCEL: LangChain Powered RAG\n",
        "\n",
        "In the following notebook we're going to focus on learning how to navigate and build useful applications using LangChain, specifically LCEL, and how to integrate different APIs together into a coherent RAG application!\n",
        "\n",
        "In the notebook, you'll complete the following Tasks:\n",
        "\n",
        "- 🤝 Breakout Room #1:\n",
        "  1. Install required libraries\n",
        "  2. Set Environment Variables\n",
        "  3. Initialize a Simple Chain using LCEL\n",
        "  4. Implement Naive RAG using LCEL\n",
        "\n",
        "- 🤝 Breakout Room #2:\n",
        "  1. Create a Simple RAG Application Using QDrant, OpenAI, and LCEL\n",
        "\n",
        "Let's get started!\n",
        "\n"
      ],
      "metadata": {
        "id": "47eTBHYNP4g1"
      }
    },
    {
      "cell_type": "markdown",
      "source": [
        "# 🤝 Breakout Room #1"
      ],
      "metadata": {
        "id": "2ayVXHXHRE_t"
      }
    },
    {
      "cell_type": "markdown",
      "source": [
        "## Task 1: Installing Required Libraries\n",
        "\n",
        "One of the [key features](https://blog.langchain.dev/langchain-v02-leap-to-stability/) of LangChain v0.2.0 is the compartmentalization of the various LangChain ecosystem packages and added stability.\n",
        "\n",
        "Instead of one all encompassing Python package - LangChain has a `core` package and a number of additional supplementary packages.\n",
        "\n",
        "We'll start by grabbing all of our LangChain related packages!"
      ],
      "metadata": {
        "id": "aVHd6POM0JFN"
      }
    },
    {
      "cell_type": "code",
      "source": [
        "!pip install -qU langchain langchain-core langchain-community langchain-openai"
      ],
      "metadata": {
        "colab": {
          "base_uri": "https://localhost:8080/"
        },
        "id": "nCC2AR-Q0m0x",
        "outputId": "dfcf9f5a-04d1-4bc5-cc87-4aaf978e8632"
      },
      "execution_count": 1,
      "outputs": [
        {
          "output_type": "stream",
          "name": "stdout",
          "text": [
            "\u001b[2K     \u001b[90m━━━━━━━━━━━━━━━━━━━━━━━━━━━━━━━━━━━━━━━━\u001b[0m \u001b[32m974.6/974.6 kB\u001b[0m \u001b[31m5.8 MB/s\u001b[0m eta \u001b[36m0:00:00\u001b[0m\n",
            "\u001b[2K     \u001b[90m━━━━━━━━━━━━━━━━━━━━━━━━━━━━━━━━━━━━━━━━\u001b[0m \u001b[32m315.8/315.8 kB\u001b[0m \u001b[31m9.7 MB/s\u001b[0m eta \u001b[36m0:00:00\u001b[0m\n",
            "\u001b[2K     \u001b[90m━━━━━━━━━━━━━━━━━━━━━━━━━━━━━━━━━━━━━━━━\u001b[0m \u001b[32m2.2/2.2 MB\u001b[0m \u001b[31m17.2 MB/s\u001b[0m eta \u001b[36m0:00:00\u001b[0m\n",
            "\u001b[2K     \u001b[90m━━━━━━━━━━━━━━━━━━━━━━━━━━━━━━━━━━━━━━━━\u001b[0m \u001b[32m125.3/125.3 kB\u001b[0m \u001b[31m7.9 MB/s\u001b[0m eta \u001b[36m0:00:00\u001b[0m\n",
            "\u001b[2K     \u001b[90m━━━━━━━━━━━━━━━━━━━━━━━━━━━━━━━━━━━━━━━━\u001b[0m \u001b[32m325.5/325.5 kB\u001b[0m \u001b[31m15.2 MB/s\u001b[0m eta \u001b[36m0:00:00\u001b[0m\n",
            "\u001b[2K     \u001b[90m━━━━━━━━━━━━━━━━━━━━━━━━━━━━━━━━━━━━━━━━\u001b[0m \u001b[32m1.1/1.1 MB\u001b[0m \u001b[31m22.1 MB/s\u001b[0m eta \u001b[36m0:00:00\u001b[0m\n",
            "\u001b[2K     \u001b[90m━━━━━━━━━━━━━━━━━━━━━━━━━━━━━━━━━━━━━━━━\u001b[0m \u001b[32m49.2/49.2 kB\u001b[0m \u001b[31m4.0 MB/s\u001b[0m eta \u001b[36m0:00:00\u001b[0m\n",
            "\u001b[2K     \u001b[90m━━━━━━━━━━━━━━━━━━━━━━━━━━━━━━━━━━━━━━━━\u001b[0m \u001b[32m145.0/145.0 kB\u001b[0m \u001b[31m5.3 MB/s\u001b[0m eta \u001b[36m0:00:00\u001b[0m\n",
            "\u001b[2K     \u001b[90m━━━━━━━━━━━━━━━━━━━━━━━━━━━━━━━━━━━━━━━━\u001b[0m \u001b[32m75.6/75.6 kB\u001b[0m \u001b[31m8.7 MB/s\u001b[0m eta \u001b[36m0:00:00\u001b[0m\n",
            "\u001b[2K     \u001b[90m━━━━━━━━━━━━━━━━━━━━━━━━━━━━━━━━━━━━━━━━\u001b[0m \u001b[32m77.9/77.9 kB\u001b[0m \u001b[31m7.4 MB/s\u001b[0m eta \u001b[36m0:00:00\u001b[0m\n",
            "\u001b[2K     \u001b[90m━━━━━━━━━━━━━━━━━━━━━━━━━━━━━━━━━━━━━━━━\u001b[0m \u001b[32m58.3/58.3 kB\u001b[0m \u001b[31m5.8 MB/s\u001b[0m eta \u001b[36m0:00:00\u001b[0m\n",
            "\u001b[?25h"
          ]
        }
      ]
    },
    {
      "cell_type": "markdown",
      "source": [
        "Now we can get our Qdrant dependencies!"
      ],
      "metadata": {
        "id": "S5ELHQjQ1PYs"
      }
    },
    {
      "cell_type": "code",
      "source": [
        "!pip install -qU qdrant-client"
      ],
      "metadata": {
        "id": "76XeYI9P1OXO"
      },
      "execution_count": 3,
      "outputs": []
    },
    {
      "cell_type": "markdown",
      "source": [
        "Let's finally get `tiktoken` and `pymupdf` so we can leverage them later on!"
      ],
      "metadata": {
        "id": "Iesey9OGCKJx"
      }
    },
    {
      "cell_type": "code",
      "source": [
        "!pip install -qU tiktoken pymupdf"
      ],
      "metadata": {
        "id": "K5qIUrFuENrS",
        "colab": {
          "base_uri": "https://localhost:8080/"
        },
        "outputId": "f3b3aed4-6758-4d73-de14-45af9387cd0d"
      },
      "execution_count": 4,
      "outputs": [
        {
          "output_type": "stream",
          "name": "stdout",
          "text": [
            "\u001b[2K     \u001b[90m━━━━━━━━━━━━━━━━━━━━━━━━━━━━━━━━━━━━━━━━\u001b[0m \u001b[32m3.5/3.5 MB\u001b[0m \u001b[31m12.6 MB/s\u001b[0m eta \u001b[36m0:00:00\u001b[0m\n",
            "\u001b[2K     \u001b[90m━━━━━━━━━━━━━━━━━━━━━━━━━━━━━━━━━━━━━━━━\u001b[0m \u001b[32m15.8/15.8 MB\u001b[0m \u001b[31m47.3 MB/s\u001b[0m eta \u001b[36m0:00:00\u001b[0m\n",
            "\u001b[?25h"
          ]
        }
      ]
    },
    {
      "cell_type": "markdown",
      "source": [
        "## Task 2: Set Environment Variables\n",
        "\n",
        "We'll be leveraging OpenAI's suite of APIs - so we'll set our `OPENAI_API_KEY` `env` variable here!"
      ],
      "metadata": {
        "id": "sl6wTp9C5qbY"
      }
    },
    {
      "cell_type": "code",
      "source": [
        "import os\n",
        "import getpass\n",
        "\n",
        "os.environ[\"OPENAI_API_KEY\"] = getpass.getpass(\"OpenAI API Key:\")"
      ],
      "metadata": {
        "id": "7pKAfycq73wE",
        "colab": {
          "base_uri": "https://localhost:8080/"
        },
        "outputId": "9bb7025f-80dc-4d8c-efa5-8fe83dc75bcd"
      },
      "execution_count": 5,
      "outputs": [
        {
          "name": "stdout",
          "output_type": "stream",
          "text": [
            "OpenAI API Key:··········\n"
          ]
        }
      ]
    },
    {
      "cell_type": "markdown",
      "source": [
        "## Task 3: Initialize a Simple Chain using LCEL\n",
        "\n",
        "The first thing we'll do is familiarize ourselves with LCEL and the specific ins and outs of how we can use it!"
      ],
      "metadata": {
        "id": "Q_xp54wIA56_"
      }
    },
    {
      "cell_type": "markdown",
      "source": [
        "### LLM Orchestration Tool (LangChain)\n",
        "\n",
        "Let's dive right into [LangChain](https://www.langchain.com/)!\n",
        "\n",
        "The first thing we want to do is create an object that lets us access OpenAI's `gpt-4o` model."
      ],
      "metadata": {
        "id": "SyGdhbS6SkD1"
      }
    },
    {
      "cell_type": "code",
      "source": [
        "from langchain_openai import ChatOpenAI\n",
        "\n",
        "openai_chat_model = ChatOpenAI(model=\"gpt-4o\")"
      ],
      "metadata": {
        "id": "3Uj6SorxMj8e"
      },
      "execution_count": 6,
      "outputs": []
    },
    {
      "cell_type": "markdown",
      "source": [
        "####❓ Question #1:\n",
        "\n",
        "What other models could we use, and how would the above code change?\n",
        "\n",
        "GPT-3.5 Turbo, DALL-E, TTS, Whisper\n",
        "\n",
        "from langchain_community.utilities.dalle_image_generator import DallEAPIWrapper\n",
        "openai_image_model = DallEAPIWrapper(model_name=\"dall-e-3\")\n",
        "\n",
        "\n",
        "> HINT: Check out [this page](https://platform.openai.com/docs/models/gpt-3-5-turbo) to find the answer!"
      ],
      "metadata": {
        "id": "HsmiieEh_Ye-"
      }
    },
    {
      "cell_type": "markdown",
      "source": [
        "### Prompt Template"
      ],
      "metadata": {
        "id": "9nU8SlHfH41T"
      }
    },
    {
      "cell_type": "markdown",
      "source": [
        "Now, we'll set up a prompt template - more specifically a `ChatPromptTemplate`. This will let us build a prompt we can modify when we call our LLM!"
      ],
      "metadata": {
        "id": "dcMKLZWBVYm7"
      }
    },
    {
      "cell_type": "code",
      "source": [
        "from langchain_core.prompts import ChatPromptTemplate\n",
        "\n",
        "system_template = \"You are a legendary and mythical Wizard. You speak in riddles and make obscure and pun-filled references to exotic cheeses.\"\n",
        "human_template = \"{content}\"\n",
        "\n",
        "chat_prompt = ChatPromptTemplate.from_messages([\n",
        "    (\"system\", system_template),\n",
        "    (\"human\", human_template)\n",
        "])"
      ],
      "metadata": {
        "id": "Z770j4zPS3o5"
      },
      "execution_count": 7,
      "outputs": []
    },
    {
      "cell_type": "markdown",
      "source": [
        "### Our First Chain\n",
        "\n",
        "Now we can set up our first chain!\n",
        "\n",
        "A chain is simply two components that feed directly into eachother in a sequential fashion!\n",
        "\n",
        "You'll notice that we're using the pipe operator `|` to connect our `chat_prompt` to our `llm`.\n",
        "\n",
        "This is a simplified method of creating chains and it leverages the LangChain Expression Language, or LCEL.\n",
        "\n",
        "You can read more about it [here](https://python.langchain.com/docs/expression_language/), but there a few features we should be aware of out of the box (taken directly from LangChain's documentation linked above):\n",
        "\n",
        "- **Async, Batch, and Streaming Support** Any chain constructed this way will automatically have full sync, async, batch, and streaming support. This makes it easy to prototype a chain in a Jupyter notebook using the sync interface, and then expose it as an async streaming interface.\n",
        "\n",
        "- **Fallbacks** The non-determinism of LLMs makes it important to be able to handle errors gracefully. With LCEL you can easily attach fallbacks to any chain.\n",
        "\n",
        "- **Parallelism** Since LLM applications involve (sometimes long) API calls, it often becomes important to run things in parallel. With LCEL syntax, any components that can be run in parallel automatically are.\n",
        "\n",
        "In the following code cell we have two components:\n",
        "\n",
        "- `chat_prompt`, which is a formattable `ChatPromptTemplate` that contains a system message and a human message.\n",
        "\n",
        "We'd like to be able to pass our own `content` (as found in our `human_template`) and then have the resulting message pair sent to our model and responded to!"
      ],
      "metadata": {
        "id": "eGku_c2VVyd_"
      }
    },
    {
      "cell_type": "code",
      "source": [
        "chain = chat_prompt | openai_chat_model"
      ],
      "metadata": {
        "id": "RcJyqOiwVt04"
      },
      "execution_count": 8,
      "outputs": []
    },
    {
      "cell_type": "markdown",
      "source": [
        "Notice the pattern here:\n",
        "\n",
        "We invoke our chain with the `dict` `{\"content\" : \"Hello world!\"}`.\n",
        "\n",
        "It enters our chain:\n",
        "\n",
        "`{\"content\" : \"Hello world!\"}` -> `invoke()` -> `chat_prompt`\n",
        "\n",
        "Our `chat_prompt` returns a `PromptValue`, which is the formatted prompt. We then \"pipe\" the output of our `chat_prompt` into our `llm`.\n",
        "\n",
        "`PromptValue` -> `|` -> `llm`\n",
        "\n",
        "Our `llm` then takes the list of messages and provides an output which is return as a `str`!\n",
        "\n",
        "\n",
        "\n",
        "\n",
        "\n"
      ],
      "metadata": {
        "id": "QV_kHCjlL_01"
      }
    },
    {
      "cell_type": "code",
      "source": [
        "print(chain.invoke({\"content\": \"Hello world!\"}))"
      ],
      "metadata": {
        "colab": {
          "base_uri": "https://localhost:8080/"
        },
        "id": "0cqr2QuMtIjn",
        "outputId": "a18874e5-4972-4bcb-9780-6f3d1de868f0"
      },
      "execution_count": 9,
      "outputs": [
        {
          "output_type": "stream",
          "name": "stdout",
          "text": [
            "content='Ah, a seeker of knowledge! Greetings, wanderer! As the moon waxes gibbous and the wheels of fate turn like a well-aged wheel of Gouda, what wisdom dost thou seek from this ancient font?' response_metadata={'token_usage': {'completion_tokens': 45, 'prompt_tokens': 38, 'total_tokens': 83}, 'model_name': 'gpt-4o', 'system_fingerprint': 'fp_f4e629d0a5', 'finish_reason': 'stop', 'logprobs': None} id='run-938ec308-dfd1-490a-be2e-e30f7af6d264-0' usage_metadata={'input_tokens': 38, 'output_tokens': 45, 'total_tokens': 83}\n"
          ]
        }
      ]
    },
    {
      "cell_type": "markdown",
      "source": [
        "Let's try it out with a different prompt!"
      ],
      "metadata": {
        "id": "2znL48ECNteM"
      }
    },
    {
      "cell_type": "code",
      "source": [
        "chain.invoke({\"content\" : \"Could I please have some advice on how to become a better Python Programmer?\"})"
      ],
      "metadata": {
        "colab": {
          "base_uri": "https://localhost:8080/"
        },
        "id": "mjiTNeYXUCAB",
        "outputId": "b860bc1e-4a89-434d-d5fe-038d5b125a75"
      },
      "execution_count": 10,
      "outputs": [
        {
          "output_type": "execute_result",
          "data": {
            "text/plain": [
              "AIMessage(content='Ah, seeker of serpentine wisdom, you stand at the threshold of the great digital labyrinth, where Python coils and curls like a curious, code-bound serpent. To sharpen your skills and tread the path of the Pythonic sage, heed these cryptic morsels of guidance:\\n\\n1. **Cheddar Your Basics**: Master the fundamental spells of the language. Variables, loops, and conditionals are your bread and brie. Without these, your code will be as hollow as a Swiss cheese wheel.\\n\\n2. **Gouda Practices**: Follow the Pythonic principles—keep your code clean and readable. Remember, \"Simple is better than complex,\" much like a fine slice of Gouda over an overly complicated Roquefort.\\n\\n3. **Library of Cheese**: Python\\'s rich library ecosystem is akin to a well-stocked cheese cellar. Delve into Pandas, NumPy, and Flask. Each library is a unique flavor, waiting to enhance your coding experience.\\n\\n4. **Muenster Your Debugging Skills**: Bugs are the mold in the cheese of your code. Embrace debugging tools like PDB, and learn to read stack traces as though they were ancient, mystical scrolls.\\n\\n5. **Brie-yond Basics**: Once you\\'ve secured the basics, venture into more advanced territories. Explore decorators, generators, and context managers. They are the aged cheddars of the Python world, rich and complex.\\n\\n6. **Community Cauldron**: Join the cauldron of Python wizards—forums, meetups, and GitHub repositories. Share your incantations and learn from the spells others have crafted. Stack Overflow is a fine place to unravel the mysteries of your cheese-laden queries.\\n\\n7. **Wheel of Projects**: Build projects that challenge your skills, from simple scripts to grand architectures. Each project is a wheel of cheese, and with each completed wheel, your mastery grows.\\n\\n8. **Parmesan Persistence**: Patience and practice—like aging a fine Parmesan—are crucial. Do not rush the process; let your skills mature over time.\\n\\n9. **Camembert Creativity**: Allow your creativity to flow. Python is a versatile tool, much like a Camembert that pairs well with many dishes. Use it in web development, data science, automation, and beyond.\\n\\n10. **Mozzarella Mentorship**: Seek out mentors who can mold you, much like a young mozzarella needs the hands of a skilled cheesemaker. Their guidance will help you avoid the pitfalls and embrace the nuances of Python.\\n\\nRemember, young coder, every line of code is a thread in the fabric of your Pythonic tapestry, and each function is a slice of the divine cheese of wisdom. Go forth and code with the grace of a Roquefort and the precision of a Parmigiano Reggiano!', response_metadata={'token_usage': {'completion_tokens': 582, 'prompt_tokens': 50, 'total_tokens': 632}, 'model_name': 'gpt-4o', 'system_fingerprint': 'fp_9cb5d38cf7', 'finish_reason': 'stop', 'logprobs': None}, id='run-876e0505-f404-41f3-b069-b1b127feab6e-0', usage_metadata={'input_tokens': 50, 'output_tokens': 582, 'total_tokens': 632})"
            ]
          },
          "metadata": {},
          "execution_count": 10
        }
      ]
    },
    {
      "cell_type": "markdown",
      "source": [
        "Notice how we specifically referenced our `content` format option!\n",
        "\n",
        "Now that we have the basics set up - let's see what we mean by \"Retrieval Augmented\" Generation."
      ],
      "metadata": {
        "id": "THcMz8YAWsjP"
      }
    },
    {
      "cell_type": "markdown",
      "source": [
        "## Naive RAG - Manually adding context through the Prompt Template\n",
        "\n",
        "Let's look at how our model performs at a simple task - defining what LangChain is!\n",
        "\n",
        "We'll redo some of our previous work to change the `system_template` to be less...verbose."
      ],
      "metadata": {
        "id": "P7o8aXbhRAPe"
      }
    },
    {
      "cell_type": "code",
      "execution_count": 11,
      "metadata": {
        "colab": {
          "base_uri": "https://localhost:8080/"
        },
        "id": "Qu_Uox_pPKaf",
        "outputId": "e7d4faf6-868e-420f-b630-8fb7fb99b104"
      },
      "outputs": [
        {
          "output_type": "stream",
          "name": "stdout",
          "text": [
            "content='LangChain is a framework designed to facilitate the development of applications using large language models (LLMs). It emphasizes the integration of language models with various external data sources and computational environments, allowing for the creation of more complex and capable applications. Key features of LangChain include:\\n\\n- **Prompt Management**: Tools for handling and optimizing prompts used with language models.\\n- **Agents**: Components that decide actions based on user input and the state of the application.\\n- **Memory**: Techniques for maintaining state between different invocations of the language model.\\n- **Chains**: Sequences of calls to language models or other utilities that accomplish specific tasks.\\n- **Data Augmented Generation**: Enhancing language model outputs with additional data.\\n\\nLangChain supports a variety of use cases including chatbots, data generation, summarization, and more by leveraging the advanced capabilities of LLMs and integrating them with other systems and data sources.' response_metadata={'token_usage': {'completion_tokens': 185, 'prompt_tokens': 22, 'total_tokens': 207}, 'model_name': 'gpt-4o', 'system_fingerprint': 'fp_f4e629d0a5', 'finish_reason': 'stop', 'logprobs': None} id='run-88a03244-0f24-4779-8288-cd906b949381-0' usage_metadata={'input_tokens': 22, 'output_tokens': 185, 'total_tokens': 207}\n"
          ]
        }
      ],
      "source": [
        "system_template = \"You are a helpful assistant.\"\n",
        "human_template = \"{content}\"\n",
        "\n",
        "chat_prompt = ChatPromptTemplate.from_messages([\n",
        "    (\"system\", system_template),\n",
        "    (\"human\", human_template)\n",
        "])\n",
        "\n",
        "chat_chain = chat_prompt | openai_chat_model\n",
        "\n",
        "print(chat_chain.invoke({\"content\" : \"Please define LangChain.\"}))"
      ]
    },
    {
      "cell_type": "markdown",
      "source": [
        "Well, that's not very good - is it!\n",
        "\n",
        "The issue at play here is that our model was not trained on the idea of \"LangChain\", and so it's left with nothing but a guess - definitely not what we want the answer to be!\n",
        "\n",
        "Let's ask another simple LangChain question!"
      ],
      "metadata": {
        "id": "18KXqGI4XbMb"
      }
    },
    {
      "cell_type": "code",
      "source": [
        "print(chat_chain.invoke({\"content\" : \"What is LangChain Expression Language (LECL)?\"}))"
      ],
      "metadata": {
        "colab": {
          "base_uri": "https://localhost:8080/"
        },
        "id": "pRG5LwYoXnsr",
        "outputId": "3180bcf4-2538-479f-d582-4da87348fa50"
      },
      "execution_count": 12,
      "outputs": [
        {
          "output_type": "stream",
          "name": "stdout",
          "text": [
            "content='LangChain Expression Language (LCEL) is a domain-specific language designed to enhance the functionality and interactivity of LangChain, a framework for building applications with language models. LCEL allows users to define and execute complex expressions and logic within the LangChain environment, facilitating more advanced and customizable operations.\\n\\nKey features of LCEL include:\\n\\n1. **Expression Evaluation**: LCEL enables the evaluation of expressions involving variables, functions, and operators, allowing for dynamic computations and decision-making.\\n\\n2. **Integration with LangChain**: LCEL is tightly integrated with the LangChain framework, enabling seamless interaction with language models and other components of the system.\\n\\n3. **Custom Functions**: Users can define custom functions within LCEL to perform specific tasks, making the language highly extensible and adaptable to various use cases.\\n\\n4. **Control Structures**: LCEL supports control structures such as conditionals and loops, enabling the creation of complex logic and workflows.\\n\\n5. **Data Manipulation**: LCEL provides capabilities for manipulating and transforming data, which is essential for tasks such as data preprocessing and postprocessing in language model applications.\\n\\nBy incorporating LCEL into LangChain, developers can create more robust and flexible applications that leverage the power of language models while maintaining control over the underlying logic and computations.' response_metadata={'token_usage': {'completion_tokens': 258, 'prompt_tokens': 27, 'total_tokens': 285}, 'model_name': 'gpt-4o', 'system_fingerprint': 'fp_f4e629d0a5', 'finish_reason': 'stop', 'logprobs': None} id='run-eef43d50-96e0-4660-b340-389be2f09511-0' usage_metadata={'input_tokens': 27, 'output_tokens': 258, 'total_tokens': 285}\n"
          ]
        }
      ]
    },
    {
      "cell_type": "markdown",
      "source": [
        "While it provides a confident response, that response is entirely ficticious! Not a great look, OpenAI!\n",
        "\n",
        "However, let's see what happens when we rework our prompts - and we add the content from the docs to our prompt as context."
      ],
      "metadata": {
        "id": "63pr0fgYXxC3"
      }
    },
    {
      "cell_type": "code",
      "source": [
        "HUMAN_TEMPLATE = \"\"\"\n",
        "#CONTEXT:\n",
        "{context}\n",
        "\n",
        "QUERY:\n",
        "{query}\n",
        "\n",
        "Use the provide context to answer the provided user query. Only use the provided context to answer the query. If you do not know the answer, response with \"I don't know\"\n",
        "\"\"\"\n",
        "\n",
        "CONTEXT = \"\"\"\n",
        "LangChain Expression Language or LCEL is a declarative way to easily compose chains together. There are several benefits to writing chains in this manner (as opposed to writing normal code):\n",
        "\n",
        "Async, Batch, and Streaming Support Any chain constructed this way will automatically have full sync, async, batch, and streaming support. This makes it easy to prototype a chain in a Jupyter notebook using the sync interface, and then expose it as an async streaming interface.\n",
        "\n",
        "Fallbacks The non-determinism of LLMs makes it important to be able to handle errors gracefully. With LCEL you can easily attach fallbacks to any chain.\n",
        "\n",
        "Parallelism Since LLM applications involve (sometimes long) API calls, it often becomes important to run things in parallel. With LCEL syntax, any components that can be run in parallel automatically are.\n",
        "\n",
        "Seamless LangSmith Tracing Integration As your chains get more and more complex, it becomes increasingly important to understand what exactly is happening at every step. With LCEL, all steps are automatically logged to LangSmith for maximal observability and debuggability.\n",
        "\"\"\"\n",
        "\n",
        "chat_prompt = ChatPromptTemplate.from_messages([\n",
        "    (\"human\", HUMAN_TEMPLATE)\n",
        "])\n",
        "\n",
        "chat_chain = chat_prompt | openai_chat_model\n",
        "\n",
        "print(chat_chain.invoke({\"query\" : \"What is LangChain Expression Language?\", \"context\" : CONTEXT}))"
      ],
      "metadata": {
        "colab": {
          "base_uri": "https://localhost:8080/"
        },
        "id": "Fgr25HjgYHwh",
        "outputId": "d2f5f274-5602-450f-a229-a572ee5116b2"
      },
      "execution_count": 13,
      "outputs": [
        {
          "output_type": "stream",
          "name": "stdout",
          "text": [
            "content='LangChain Expression Language or LCEL is a declarative way to easily compose chains together. It offers several benefits, such as full sync, async, batch, and streaming support, allowing for easy prototyping and deployment. LCEL also supports fallbacks for error handling, parallelism for running components in parallel, and seamless integration with LangSmith for detailed tracing and debugging.' response_metadata={'token_usage': {'completion_tokens': 74, 'prompt_tokens': 274, 'total_tokens': 348}, 'model_name': 'gpt-4o', 'system_fingerprint': 'fp_f4e629d0a5', 'finish_reason': 'stop', 'logprobs': None} id='run-40f82222-c0dc-45ed-a052-50bd1d822033-0' usage_metadata={'input_tokens': 274, 'output_tokens': 74, 'total_tokens': 348}\n"
          ]
        }
      ]
    },
    {
      "cell_type": "markdown",
      "source": [
        "You'll notice that the response is much better this time. Not only does it answer the question well - but there's no trace of confabulation (hallucination) at all!\n",
        "\n",
        "> NOTE: While RAG is an effective strategy to *help* ground LLMs, it is not nearly 100% effective. You will still need to ensure your responses are factual through some other processes\n",
        "\n",
        "That, in essence, is the idea of RAG. We provide the model with context to answer our queries - and rely on it to translate the potentially lengthy and difficult to parse context into a natural language answer!\n",
        "\n",
        "However, manually providing context is not scalable - and doesn't really offer any benefit.\n",
        "\n",
        "Enter: Retrieval Pipelines."
      ],
      "metadata": {
        "id": "ppQdtCedY7C4"
      }
    },
    {
      "cell_type": "markdown",
      "source": [
        "## Task #4: Implement Naive RAG using LCEL\n",
        "\n",
        "Now we can make a naive RAG application that will help us bridge the gap between our Pythonic implementation and a fully LangChain powered solution!"
      ],
      "metadata": {
        "id": "DFmdARsVBJUq"
      }
    },
    {
      "cell_type": "markdown",
      "source": [
        "## Putting the R in RAG: Retrieval 101\n",
        "\n",
        "In order to make our RAG system useful, we need a way to provide context that is most likely to answer our user's query to the LLM as additional context.\n",
        "\n",
        "Let's tackle an immediate problem first: The Context Window.\n",
        "\n",
        "All (most) LLMs have a limited context window which is typically measured in tokens. This window is an upper bound of how much stuff we can stuff in the model's input at a time.\n",
        "\n",
        "Let's say we want to work off of a relatively large piece of source data - like the Ultimate Hitchhiker's Guide to the Galaxy. All 898 pages of it!\n",
        "\n",
        "> NOTE: It is recommended you do not run the following cells, they are purely for demonstrative purposes."
      ],
      "metadata": {
        "id": "n4AozVoEZveK"
      }
    },
    {
      "cell_type": "code",
      "source": [
        "context = \"\"\"\n",
        "EVERY HITCHHIKER'S GUIDE BOOK\n",
        "\"\"\""
      ],
      "metadata": {
        "id": "PbXBxffibeyp"
      },
      "execution_count": 14,
      "outputs": []
    },
    {
      "cell_type": "markdown",
      "source": [
        "We can leverage our tokenizer to count the number of tokens for us!"
      ],
      "metadata": {
        "id": "EZvgFuaXcHFT"
      }
    },
    {
      "cell_type": "code",
      "source": [
        "import tiktoken\n",
        "\n",
        "enc = tiktoken.encoding_for_model(\"gpt-4o\")"
      ],
      "metadata": {
        "id": "HaKPOdSjbifn"
      },
      "execution_count": 15,
      "outputs": []
    },
    {
      "cell_type": "code",
      "source": [
        "len(enc.encode(context))"
      ],
      "metadata": {
        "colab": {
          "base_uri": "https://localhost:8080/"
        },
        "id": "NtDiSMxpE4Xi",
        "outputId": "8e310bb0-596f-408a-a1c6-bd0c8e5f9312"
      },
      "execution_count": 17,
      "outputs": [
        {
          "output_type": "execute_result",
          "data": {
            "text/plain": [
              "12"
            ]
          },
          "metadata": {},
          "execution_count": 17
        }
      ]
    },
    {
      "cell_type": "markdown",
      "source": [
        "The full set comes in at a whopping *636,144* tokens.\n",
        "\n",
        "So, we have too much context. What can we do?\n",
        "\n",
        "Well, the first thing that might enter your mind is: \"Use a model with more context window\", and we could definitely do that! However, even `gpt-4-32k` wouldn't be able to fit that whole text in the context window at once.\n",
        "\n",
        "So, we can try splitting our document up into little pieces - that way, we can avoid providing too much context.\n",
        "\n",
        "We have another problem now.\n",
        "\n",
        "If we split our document up into little pieces, and we can't put all of them in the prompt. How do we decide which to include in the prompt?!\n",
        "\n",
        "> NOTE: Content splitting/chunking strategies are an active area of research and iterative developement. There is no \"one size fits all\" approach to chunking/splitting at this moment. Use your best judgement to determine chunking strategies!\n",
        "\n",
        "In order to conceptualize the following processes - let's create a toy context set!"
      ],
      "metadata": {
        "id": "5oUuZpAicLdm"
      }
    },
    {
      "cell_type": "markdown",
      "source": [
        "### TextSplitting aka Chunking\n",
        "\n",
        "We'll use the `RecursiveCharacterTextSplitter` to create our toy example.\n",
        "\n",
        "It will split based on the following rules:\n",
        "\n",
        "- Each chunk has a maximum size of 100 tokens\n",
        "- It will try and split first on the `\\n\\n` character, then on the `\\n`, then on the `<SPACE>` character, and finally it will split on individual tokens.\n",
        "\n",
        "Let's implement it and see the results!"
      ],
      "metadata": {
        "id": "UPCiOPwUfbqn"
      }
    },
    {
      "cell_type": "code",
      "source": [
        "import tiktoken\n",
        "from langchain.text_splitter import RecursiveCharacterTextSplitter\n",
        "\n",
        "def tiktoken_len(text):\n",
        "    tokens = tiktoken.encoding_for_model(\"gpt-4o\").encode(\n",
        "        text,\n",
        "    )\n",
        "    return len(tokens)\n",
        "\n",
        "text_splitter = RecursiveCharacterTextSplitter(\n",
        "    chunk_size = 100,\n",
        "    chunk_overlap = 0,\n",
        "    length_function = tiktoken_len,\n",
        ")"
      ],
      "metadata": {
        "id": "nLW9AfDKfVHn"
      },
      "execution_count": 18,
      "outputs": []
    },
    {
      "cell_type": "code",
      "source": [
        "chunks = text_splitter.split_text(CONTEXT)"
      ],
      "metadata": {
        "id": "nPYPBe2ngT9N"
      },
      "execution_count": 19,
      "outputs": []
    },
    {
      "cell_type": "code",
      "source": [
        "len(chunks)"
      ],
      "metadata": {
        "colab": {
          "base_uri": "https://localhost:8080/"
        },
        "id": "n_RGVlTihaQX",
        "outputId": "58911f52-6172-4869-db3f-71837927a15e"
      },
      "execution_count": 20,
      "outputs": [
        {
          "output_type": "execute_result",
          "data": {
            "text/plain": [
              "3"
            ]
          },
          "metadata": {},
          "execution_count": 20
        }
      ]
    },
    {
      "cell_type": "code",
      "source": [
        "for chunk in chunks:\n",
        "  print(chunk)\n",
        "  print(\"----\")"
      ],
      "metadata": {
        "colab": {
          "base_uri": "https://localhost:8080/"
        },
        "id": "rTYny2xchS_Z",
        "outputId": "951896d0-aaab-4afa-817e-5c2bb7f1a3df"
      },
      "execution_count": 21,
      "outputs": [
        {
          "output_type": "stream",
          "name": "stdout",
          "text": [
            "LangChain Expression Language or LCEL is a declarative way to easily compose chains together. There are several benefits to writing chains in this manner (as opposed to writing normal code):\n",
            "\n",
            "Async, Batch, and Streaming Support Any chain constructed this way will automatically have full sync, async, batch, and streaming support. This makes it easy to prototype a chain in a Jupyter notebook using the sync interface, and then expose it as an async streaming interface.\n",
            "----\n",
            "Fallbacks The non-determinism of LLMs makes it important to be able to handle errors gracefully. With LCEL you can easily attach fallbacks to any chain.\n",
            "\n",
            "Parallelism Since LLM applications involve (sometimes long) API calls, it often becomes important to run things in parallel. With LCEL syntax, any components that can be run in parallel automatically are.\n",
            "----\n",
            "Seamless LangSmith Tracing Integration As your chains get more and more complex, it becomes increasingly important to understand what exactly is happening at every step. With LCEL, all steps are automatically logged to LangSmith for maximal observability and debuggability.\n",
            "----\n"
          ]
        }
      ]
    },
    {
      "cell_type": "markdown",
      "source": [
        "As is shown in our result, we've split each section into 100 token chunks - cleanly separated by `\\n\\n` characters!"
      ],
      "metadata": {
        "id": "98hOgu5Yhefv"
      }
    },
    {
      "cell_type": "markdown",
      "source": [
        "####🏗️ Activity #1:\n",
        "\n",
        "While there's nothing specifically wrong with the chunking method used above - it is a naive approach that is not sensitive to specific data formats.\n",
        "\n",
        "Brainstorm some ideas that would split large single documents into smaller documents.\n",
        "\n",
        "1. Semantic chunking, based on semantic similarity.\n",
        "2. Split text based on headings or sections. Common in documents with structured formats like reports or manuals.\n",
        "3. Hybrid approach, where you can use some meta-level or higher level information such as chapter, page number, etc., and another chunking such as paragraph or newline. This is also known as hierarhical."
      ],
      "metadata": {
        "id": "3PTiJ2utMpqq"
      }
    },
    {
      "cell_type": "markdown",
      "source": [
        "## Embeddings and Dense Vector Search\n",
        "\n",
        "Now that we have our individual chunks, we need a system to correctly select the relevant pieces of information to answer our query.\n",
        "\n",
        "This sounds like a perfect job for embeddings!\n",
        "\n",
        "We'll be using OpenAI's `text-embedding-3` model as our embedding model today!\n",
        "\n",
        "Let's load it up through LangChain."
      ],
      "metadata": {
        "id": "rj18Rjafhp7d"
      }
    },
    {
      "cell_type": "code",
      "source": [
        "from langchain_openai.embeddings import OpenAIEmbeddings\n",
        "\n",
        "embedding_model = OpenAIEmbeddings(model=\"text-embedding-3-small\")"
      ],
      "metadata": {
        "id": "quNjOLWspOVN"
      },
      "execution_count": 22,
      "outputs": []
    },
    {
      "cell_type": "markdown",
      "source": [
        "####❓ Question #2:\n",
        "\n",
        "What is the embedding dimension, given that we're using `text-embedding-3-small`?\n",
        "\n",
        "The length of the embedding vector will be 1536 for text-embedding-3-small or 3072 for text-embedding-3-large by default.\n",
        "\n",
        "> HINT: Check out the [docs](https://platform.openai.com/docs/guides/embeddings) to help you answer this question."
      ],
      "metadata": {
        "id": "dsGZ92hm9IeX"
      }
    },
    {
      "cell_type": "markdown",
      "source": [
        "### Finding the Embeddings for Our Chunks\n",
        "\n",
        "First, let's find all our embeddings for each chunk and store them in a convenient format for later."
      ],
      "metadata": {
        "id": "ByK-zb0FsnqR"
      }
    },
    {
      "cell_type": "code",
      "source": [
        "embeddings_dict = {}\n",
        "\n",
        "for chunk in chunks:\n",
        "  embeddings_dict[chunk] = embedding_model.embed_query(chunk)"
      ],
      "metadata": {
        "id": "ZHl-u6Fxske9"
      },
      "execution_count": 23,
      "outputs": []
    },
    {
      "cell_type": "code",
      "source": [
        "for k,v in embeddings_dict.items():\n",
        "  print(f\"Chunk - {k}\")\n",
        "  print(\"---\")\n",
        "  print(f\"Embedding - Vector of Size: {len(v)}\")\n",
        "  print(\"\\n\\n\")"
      ],
      "metadata": {
        "colab": {
          "base_uri": "https://localhost:8080/"
        },
        "id": "RhJ9wY2etK7y",
        "outputId": "1f5859ff-1833-498a-ddcb-85cd1c858cbf"
      },
      "execution_count": 24,
      "outputs": [
        {
          "output_type": "stream",
          "name": "stdout",
          "text": [
            "Chunk - LangChain Expression Language or LCEL is a declarative way to easily compose chains together. There are several benefits to writing chains in this manner (as opposed to writing normal code):\n",
            "\n",
            "Async, Batch, and Streaming Support Any chain constructed this way will automatically have full sync, async, batch, and streaming support. This makes it easy to prototype a chain in a Jupyter notebook using the sync interface, and then expose it as an async streaming interface.\n",
            "---\n",
            "Embedding - Vector of Size: 1536\n",
            "\n",
            "\n",
            "\n",
            "Chunk - Fallbacks The non-determinism of LLMs makes it important to be able to handle errors gracefully. With LCEL you can easily attach fallbacks to any chain.\n",
            "\n",
            "Parallelism Since LLM applications involve (sometimes long) API calls, it often becomes important to run things in parallel. With LCEL syntax, any components that can be run in parallel automatically are.\n",
            "---\n",
            "Embedding - Vector of Size: 1536\n",
            "\n",
            "\n",
            "\n",
            "Chunk - Seamless LangSmith Tracing Integration As your chains get more and more complex, it becomes increasingly important to understand what exactly is happening at every step. With LCEL, all steps are automatically logged to LangSmith for maximal observability and debuggability.\n",
            "---\n",
            "Embedding - Vector of Size: 1536\n",
            "\n",
            "\n",
            "\n"
          ]
        }
      ]
    },
    {
      "cell_type": "markdown",
      "source": [
        "Okay, great. Let's create a query - and then embed it!"
      ],
      "metadata": {
        "id": "SOxYybdNtkWv"
      }
    },
    {
      "cell_type": "code",
      "source": [
        "query = \"Can LCEL help take code from the notebook to production?\"\n",
        "\n",
        "query_vector = embedding_model.embed_query(query)\n",
        "print(f\"Vector of Size: {len(query_vector)}\")"
      ],
      "metadata": {
        "colab": {
          "base_uri": "https://localhost:8080/"
        },
        "id": "FQD5Zwl1tLrZ",
        "outputId": "3aba926c-ca3e-4306-b382-94780d74110d"
      },
      "execution_count": 25,
      "outputs": [
        {
          "output_type": "stream",
          "name": "stdout",
          "text": [
            "Vector of Size: 1536\n"
          ]
        }
      ]
    },
    {
      "cell_type": "markdown",
      "source": [
        "Now, let's compare it against each existing chunk's embedding by using cosine similarity."
      ],
      "metadata": {
        "id": "kkJhyvgEt5Vt"
      }
    },
    {
      "cell_type": "code",
      "source": [
        "import numpy as np\n",
        "from numpy.linalg import norm\n",
        "\n",
        "def cosine_similarity(vec_1, vec_2):\n",
        "  return np.dot(vec_1, vec_2) / (norm(vec_1) * norm(vec_2))"
      ],
      "metadata": {
        "id": "vfyDZlpmfWYa"
      },
      "execution_count": 26,
      "outputs": []
    },
    {
      "cell_type": "code",
      "source": [
        "max_similarity = -float('inf')\n",
        "closest_chunk = \"\"\n",
        "\n",
        "for chunk, chunk_vector in embeddings_dict.items():\n",
        "  cosine_similarity_score = cosine_similarity(chunk_vector, query_vector)\n",
        "\n",
        "  if cosine_similarity_score > max_similarity:\n",
        "    closest_chunk = chunk\n",
        "    max_similarity = cosine_similarity_score\n",
        "\n",
        "print(closest_chunk)\n",
        "print(max_similarity)"
      ],
      "metadata": {
        "colab": {
          "base_uri": "https://localhost:8080/"
        },
        "id": "MwnJ0uYQt-G_",
        "outputId": "e7efb645-0678-474a-88bb-4c972b7a6419"
      },
      "execution_count": 27,
      "outputs": [
        {
          "output_type": "stream",
          "name": "stdout",
          "text": [
            "LangChain Expression Language or LCEL is a declarative way to easily compose chains together. There are several benefits to writing chains in this manner (as opposed to writing normal code):\n",
            "\n",
            "Async, Batch, and Streaming Support Any chain constructed this way will automatically have full sync, async, batch, and streaming support. This makes it easy to prototype a chain in a Jupyter notebook using the sync interface, and then expose it as an async streaming interface.\n",
            "0.537298487051912\n"
          ]
        }
      ]
    },
    {
      "cell_type": "markdown",
      "source": [
        "And we get the expected result, which is the passage that specifically mentions prototyping in a Jupyter Notebook!"
      ],
      "metadata": {
        "id": "JDC7HS7iumN-"
      }
    },
    {
      "cell_type": "markdown",
      "source": [
        "### Creating a Retriever\n",
        "\n",
        "Now that we have an idea of how we're getting our most relevant information - let's see how we could create a pipeline that would automatically extract the closest chunk to our query and use it as context for our prompt!\n",
        "\n",
        "First, we'll wrap the above in a helper function!"
      ],
      "metadata": {
        "id": "UPJexL1kuw45"
      }
    },
    {
      "cell_type": "code",
      "source": [
        "def retrieve_context(query, embeddings_dict, embedding_model):\n",
        "  query_vector = embedding_model.embed_query(query)\n",
        "  max_similarity = -float('inf')\n",
        "  closest_chunk = \"\"\n",
        "\n",
        "  for chunk, chunk_vector in embeddings_dict.items():\n",
        "    cosine_similarity_score = cosine_similarity(chunk_vector, query_vector)\n",
        "\n",
        "    if cosine_similarity_score > max_similarity:\n",
        "      closest_chunk = chunk\n",
        "      max_similarity = cosine_similarity_score\n",
        "\n",
        "  return closest_chunk"
      ],
      "metadata": {
        "id": "tnLpo26pu8-1"
      },
      "execution_count": 28,
      "outputs": []
    },
    {
      "cell_type": "markdown",
      "source": [
        "Now, let's add it to our pipeline!"
      ],
      "metadata": {
        "id": "ytrINkVrvL1Q"
      }
    },
    {
      "cell_type": "code",
      "source": [
        "def simple_rag(query, embeddings_dict, embedding_model, chat_chain):\n",
        "  context = retrieve_context(query, embeddings_dict, embedding_model)\n",
        "\n",
        "  response = chat_chain.invoke({\"query\" : query, \"context\" : context})\n",
        "\n",
        "  return_package = {\n",
        "      \"query\" : query,\n",
        "      \"response\" : response,\n",
        "      \"retriever_context\" : context\n",
        "  }\n",
        "\n",
        "  return return_package"
      ],
      "metadata": {
        "id": "Q26pl1osvNmL"
      },
      "execution_count": 29,
      "outputs": []
    },
    {
      "cell_type": "code",
      "source": [
        "simple_rag(\"Can LCEL help take code from the notebook to production?\", embeddings_dict, embedding_model, chat_chain)"
      ],
      "metadata": {
        "colab": {
          "base_uri": "https://localhost:8080/"
        },
        "id": "UHjbWxTAvtLS",
        "outputId": "3125afc9-b955-4d9c-e722-40e25575aa71"
      },
      "execution_count": 30,
      "outputs": [
        {
          "output_type": "execute_result",
          "data": {
            "text/plain": [
              "{'query': 'Can LCEL help take code from the notebook to production?',\n",
              " 'response': AIMessage(content='Yes, LCEL can help take code from the notebook to production. By constructing chains in a declarative manner using LCEL, you automatically get full sync, async, batch, and streaming support. This makes it easy to prototype a chain in a Jupyter notebook using the sync interface and then expose it as an async streaming interface, facilitating the transition from prototyping to production.', response_metadata={'token_usage': {'completion_tokens': 76, 'prompt_tokens': 152, 'total_tokens': 228}, 'model_name': 'gpt-4o', 'system_fingerprint': 'fp_f4e629d0a5', 'finish_reason': 'stop', 'logprobs': None}, id='run-37ca29fd-942e-4b14-96fa-47fab0d17183-0', usage_metadata={'input_tokens': 152, 'output_tokens': 76, 'total_tokens': 228}),\n",
              " 'retriever_context': 'LangChain Expression Language or LCEL is a declarative way to easily compose chains together. There are several benefits to writing chains in this manner (as opposed to writing normal code):\\n\\nAsync, Batch, and Streaming Support Any chain constructed this way will automatically have full sync, async, batch, and streaming support. This makes it easy to prototype a chain in a Jupyter notebook using the sync interface, and then expose it as an async streaming interface.'}"
            ]
          },
          "metadata": {},
          "execution_count": 30
        }
      ]
    },
    {
      "cell_type": "markdown",
      "source": [
        "####❓ Question #3:\n",
        "\n",
        "What does LCEL do that makes it more reliable at scale?\n",
        "\n",
        "The simple_rag function tells us LCEL has the abilty to break down complex steps into simple steps. It is less porbable that errors will propagate when you have sequence of tasks. Parallel execution, access to intermediate results, fallbacks, tracing, and deployment toolkits that make scale easier and more reliable.\n",
        "\n",
        "> HINT: Use your newly created `simple_rag` to help you answer this question!"
      ],
      "metadata": {
        "id": "cD2URVX3O3XJ"
      }
    },
    {
      "cell_type": "markdown",
      "source": [
        "# 🤝 Breakout Room #2"
      ],
      "metadata": {
        "id": "FfYsBu45-0pL"
      }
    },
    {
      "cell_type": "markdown",
      "source": [
        "## Task #5: Create a Simple RAG Application Using Qdrant, OpenAI, and LCEL\n",
        "\n",
        "Now that we have a grasp on how LCEL works, and how we can use LangChain and OpenAI to interact with our data - let's step it up a notch and incorporate Qdrant!"
      ],
      "metadata": {
        "id": "Cx2AOb-QHwJm"
      }
    },
    {
      "cell_type": "markdown",
      "source": [
        "## LangChain Powered RAG\n",
        "\n",
        "First and foremost, LangChain provides a convenient way to store our chunks and their embeddings.\n",
        "\n",
        "It's called a `VectorStore`!\n",
        "\n",
        "We'll be using Drant as our `VectorStore` today. You can read more about it [here](https://qdrant.tech/documentation/).\n",
        "\n",
        "Think of a `VectorStore` as a smart way to house your chunks and their associated embedding vectors. The implementation of the `VectorStore` also allows for smarter and more efficient search of our embedding vectors - as the method we used above would not scale well as we got into the millions of chunks.\n",
        "\n",
        "Otherwise, the process remains relatively similar under the hood!\n",
        "\n",
        "Let's use [Steve Jobs iPhone 2007 Presentation Introduction Speech PDF](https://singjupost.com/wp-content/uploads/2014/07/Steve-Jobs-iPhone-2007-Presentation-Full-Transcript.pdf) as our data today!"
      ],
      "metadata": {
        "id": "XYJB3IxEwpnh"
      }
    },
    {
      "cell_type": "markdown",
      "source": [
        "### Data Collection\n",
        "\n",
        "We'll be leveraging the `PyMUPDFLoader` to load our PDF directly from the web!"
      ],
      "metadata": {
        "id": "pBErqPRgxgZR"
      }
    },
    {
      "cell_type": "code",
      "source": [
        "from langchain.document_loaders import PyMuPDFLoader\n",
        "\n",
        "docs = PyMuPDFLoader(\"https://singjupost.com/wp-content/uploads/2014/07/Steve-Jobs-iPhone-2007-Presentation-Full-Transcript.pdf\").load()"
      ],
      "metadata": {
        "id": "-AHA9L3Jxo3r"
      },
      "execution_count": 31,
      "outputs": []
    },
    {
      "cell_type": "markdown",
      "source": [
        "### Chunking Our Documents"
      ],
      "metadata": {
        "id": "uH7ZPVJLx6Cn"
      }
    },
    {
      "cell_type": "markdown",
      "source": [
        "Let's do the same process as we did before with our `RecursiveCharacterTextSplitter` - but this time we'll use ~200 tokens as our max chunk size!"
      ],
      "metadata": {
        "id": "NsSCRQUSyBKT"
      }
    },
    {
      "cell_type": "code",
      "source": [
        "text_splitter = RecursiveCharacterTextSplitter(\n",
        "    chunk_size = 200,\n",
        "    chunk_overlap = 0,\n",
        "    length_function = tiktoken_len,\n",
        ")\n",
        "\n",
        "split_chunks = text_splitter.split_documents(docs)"
      ],
      "metadata": {
        "id": "SzolG1FLx2f_"
      },
      "execution_count": 32,
      "outputs": []
    },
    {
      "cell_type": "code",
      "source": [
        "len(split_chunks)"
      ],
      "metadata": {
        "colab": {
          "base_uri": "https://localhost:8080/"
        },
        "id": "fpV4f1eXyXVJ",
        "outputId": "e327354b-0475-40a5-afd0-624db1f72d31"
      },
      "execution_count": 33,
      "outputs": [
        {
          "output_type": "execute_result",
          "data": {
            "text/plain": [
              "86"
            ]
          },
          "metadata": {},
          "execution_count": 33
        }
      ]
    },
    {
      "cell_type": "markdown",
      "source": [
        "Alright, now we have 516 ~200 token long documents.\n",
        "\n",
        "Let's verify the process worked as intended by checking our max document length."
      ],
      "metadata": {
        "id": "YTJ60Ck6ybe_"
      }
    },
    {
      "cell_type": "code",
      "source": [
        "max_chunk_length = 0\n",
        "\n",
        "for chunk in split_chunks:\n",
        "  max_chunk_length = max(max_chunk_length, tiktoken_len(chunk.page_content))\n",
        "\n",
        "print(max_chunk_length)"
      ],
      "metadata": {
        "colab": {
          "base_uri": "https://localhost:8080/"
        },
        "id": "950mB338yZR8",
        "outputId": "d2a689bd-521a-4c41-f2a5-e66b82e43fbe"
      },
      "execution_count": 34,
      "outputs": [
        {
          "output_type": "stream",
          "name": "stdout",
          "text": [
            "197\n"
          ]
        }
      ]
    },
    {
      "cell_type": "markdown",
      "source": [
        "Perfect! Now we can carry on to creating and storing our embeddings."
      ],
      "metadata": {
        "id": "TDt3RufQy1cP"
      }
    },
    {
      "cell_type": "markdown",
      "source": [
        "### Embeddings and Vector Storage\n",
        "\n",
        "We'll use the `text-embedding-3-small` embedding model again - and `Qdrant` to store all our embedding vectors for easy retrieval later!"
      ],
      "metadata": {
        "id": "kocCe4zLy5qT"
      }
    },
    {
      "cell_type": "code",
      "source": [
        "from langchain_community.vectorstores import Qdrant\n",
        "\n",
        "qdrant_vectorstore = Qdrant.from_documents(\n",
        "    split_chunks,\n",
        "    embedding_model,\n",
        "    location=\":memory:\",\n",
        "    collection_name=\"Steve Job's Speech\",\n",
        ")"
      ],
      "metadata": {
        "id": "7M0X1eVlWPFf"
      },
      "execution_count": 35,
      "outputs": []
    },
    {
      "cell_type": "markdown",
      "source": [
        "Now let's set up our retriever, just as we saw before, but this time using LangChain's simple `as_retriever()` method!"
      ],
      "metadata": {
        "id": "d-NDvjfzXhVp"
      }
    },
    {
      "cell_type": "code",
      "source": [
        "qdrant_retriever = qdrant_vectorstore.as_retriever()"
      ],
      "metadata": {
        "id": "Edjx19YBXavZ"
      },
      "execution_count": 36,
      "outputs": []
    },
    {
      "cell_type": "markdown",
      "source": [
        "#### Back to the Flow"
      ],
      "metadata": {
        "id": "B1OM0DiYcOj-"
      }
    },
    {
      "cell_type": "markdown",
      "source": [
        "We're ready to move to the next step!"
      ],
      "metadata": {
        "id": "J7apXaEBzQai"
      }
    },
    {
      "cell_type": "markdown",
      "source": [
        "### Setting up our RAG\n",
        "\n",
        "We'll use the LCEL we touched on earlier to create a RAG chain.\n",
        "\n",
        "Let's think through each part:\n",
        "\n",
        "1. First we need to retrieve context\n",
        "2. We need to pipe that context to our model\n",
        "3. We need to parse that output\n",
        "\n",
        "Let's start by setting up our prompt again, just so it's fresh in our minds!"
      ],
      "metadata": {
        "id": "xMhcU37dzV5k"
      }
    },
    {
      "cell_type": "markdown",
      "source": [
        "####🏗️ Activity #2:\n",
        "\n",
        "Complete the prompt so that your RAG application answers queries based on the context provided, but *does not* answer queries if the context is unrelated to the query."
      ],
      "metadata": {
        "id": "oatgDa7cOXWV"
      }
    },
    {
      "cell_type": "code",
      "source": [
        "RAG_PROMPT = \"\"\"\n",
        "CONTEXT:\n",
        "{context}\n",
        "\n",
        "QUERY:\n",
        "{question}\n",
        "\n",
        "Use the provide context to answer the provided user query. Only use the provided context to answer the query. If you do not know the answer, response with \"I don't know\"\n",
        "\n",
        "\"\"\"\n",
        "\n",
        "rag_prompt = ChatPromptTemplate.from_template(RAG_PROMPT)"
      ],
      "metadata": {
        "id": "TE5tick_YPJj"
      },
      "execution_count": 38,
      "outputs": []
    },
    {
      "cell_type": "markdown",
      "source": [
        "#### Our RAG Chain\n",
        "\n",
        "Notice how we have a bit of a more complex chain this time - that's because we want to return our sources with the response.\n",
        "\n",
        "Let's break down the chain step-by-step:\n",
        "\n",
        "1. We invoke the chain with the `question` item. Notice how we only need to provide `question` since both the retreiver and the `\"question\"` object depend on it.\n",
        "  - We also chain our `\"question\"` into our `retriever`! This is what ultimately collects the context through Qdrant.\n",
        "2. We assign our collected context to a `RunnablePassthrough()` from the previous object. This is going to let us simply pass it through to the next step, but still allow us to run that section of the chain.\n",
        "3. We finally collect our response by chaining our prompt, which expects both a `\"question\"` and `\"context\"`, into our `llm`. We also, collect the `\"context\"` again so we can output it in the final response object.\n",
        "\n",
        "The key thing to keep in mind here is that we need to pass our context through *after* we've retrieved it - to populate the object in a way that doesn't require us to call it or try and use it for something else."
      ],
      "metadata": {
        "id": "tZKadufhc2RL"
      }
    },
    {
      "cell_type": "code",
      "source": [
        "from operator import itemgetter\n",
        "from langchain.schema.output_parser import StrOutputParser\n",
        "from langchain.schema.runnable import RunnablePassthrough\n",
        "\n",
        "retrieval_augmented_qa_chain = (\n",
        "    # INVOKE CHAIN WITH: {\"question\" : \"<<SOME USER QUESTION>>\"}\n",
        "    # \"question\" : populated by getting the value of the \"question\" key\n",
        "    # \"context\"  : populated by getting the value of the \"question\" key and chaining it into the base_retriever\n",
        "    {\"context\": itemgetter(\"question\") | qdrant_retriever, \"question\": itemgetter(\"question\")}\n",
        "    # \"context\"  : is assigned to a RunnablePassthrough object (will not be called or considered in the next step)\n",
        "    #              by getting the value of the \"context\" key from the previous step\n",
        "    | RunnablePassthrough.assign(context=itemgetter(\"context\"))\n",
        "    # \"response\" : the \"context\" and \"question\" values are used to format our prompt object and then piped\n",
        "    #              into the LLM and stored in a key called \"response\"\n",
        "    # \"context\"  : populated by getting the value of the \"context\" key from the previous step\n",
        "    | {\"response\": rag_prompt | openai_chat_model, \"context\": itemgetter(\"context\")}\n",
        ")"
      ],
      "metadata": {
        "id": "VnGthXpzzo-R"
      },
      "execution_count": 39,
      "outputs": []
    },
    {
      "cell_type": "markdown",
      "source": [
        "Let's get a visual understanding of our chain!"
      ],
      "metadata": {
        "id": "h0KAPrtFMtRd"
      }
    },
    {
      "cell_type": "code",
      "source": [
        "!pip install -qU grandalf"
      ],
      "metadata": {
        "colab": {
          "base_uri": "https://localhost:8080/"
        },
        "id": "ceq3JfVLM74-",
        "outputId": "1000b78b-8fbd-48ef-bfa5-618aba805219"
      },
      "execution_count": 40,
      "outputs": [
        {
          "output_type": "stream",
          "name": "stdout",
          "text": [
            "\u001b[?25l     \u001b[90m━━━━━━━━━━━━━━━━━━━━━━━━━━━━━━━━━━━━━━━━\u001b[0m \u001b[32m0.0/41.8 kB\u001b[0m \u001b[31m?\u001b[0m eta \u001b[36m-:--:--\u001b[0m\r\u001b[2K     \u001b[90m━━━━━━━━━━━━━━━━━━━━━━━━━━━━━━━━━━━━━━━━\u001b[0m \u001b[32m41.8/41.8 kB\u001b[0m \u001b[31m1.8 MB/s\u001b[0m eta \u001b[36m0:00:00\u001b[0m\n",
            "\u001b[?25h"
          ]
        }
      ]
    },
    {
      "cell_type": "code",
      "source": [
        "print(retrieval_augmented_qa_chain.get_graph().draw_ascii())"
      ],
      "metadata": {
        "colab": {
          "base_uri": "https://localhost:8080/"
        },
        "id": "y8ocIXNGMsue",
        "outputId": "a9ef347a-2449-4465-856a-c7274873ebc5"
      },
      "execution_count": 41,
      "outputs": [
        {
          "output_type": "stream",
          "name": "stdout",
          "text": [
            "                       +---------------------------------+                         \n",
            "                       | Parallel<context,question>Input |                         \n",
            "                       +---------------------------------+                         \n",
            "                           *****                   ****                            \n",
            "                        ***                            ****                        \n",
            "                     ***                                   ****                    \n",
            "+--------------------------------+                             **                  \n",
            "| Lambda(itemgetter('question')) |                              *                  \n",
            "+--------------------------------+                              *                  \n",
            "                 *                                              *                  \n",
            "                 *                                              *                  \n",
            "                 *                                              *                  \n",
            "     +----------------------+                   +--------------------------------+ \n",
            "     | VectorStoreRetriever |                   | Lambda(itemgetter('question')) | \n",
            "     +----------------------+                   +--------------------------------+ \n",
            "                           *****                   *****                           \n",
            "                                ***             ***                                \n",
            "                                   ***       ***                                   \n",
            "                       +----------------------------------+                        \n",
            "                       | Parallel<context,question>Output |                        \n",
            "                       +----------------------------------+                        \n",
            "                                         *                                         \n",
            "                                         *                                         \n",
            "                                         *                                         \n",
            "                            +------------------------+                             \n",
            "                            | Parallel<context>Input |                             \n",
            "                            +------------------------+                             \n",
            "                              ****               ****                              \n",
            "                           ***                       ***                           \n",
            "                         **                             **                         \n",
            "     +-------------------------------+              +-------------+                \n",
            "     | Lambda(itemgetter('context')) |              | Passthrough |                \n",
            "     +-------------------------------+              +-------------+                \n",
            "                              ****               ****                              \n",
            "                                  ***         ***                                  \n",
            "                                     **     **                                     \n",
            "                           +-------------------------+                             \n",
            "                           | Parallel<context>Output |                             \n",
            "                           +-------------------------+                             \n",
            "                                         *                                         \n",
            "                                         *                                         \n",
            "                                         *                                         \n",
            "                       +---------------------------------+                         \n",
            "                       | Parallel<response,context>Input |                         \n",
            "                       +---------------------------------+                         \n",
            "                             ***                  ****                             \n",
            "                         ****                         ***                          \n",
            "                       **                                ****                      \n",
            "         +--------------------+                              **                    \n",
            "         | ChatPromptTemplate |                               *                    \n",
            "         +--------------------+                               *                    \n",
            "                    *                                         *                    \n",
            "                    *                                         *                    \n",
            "                    *                                         *                    \n",
            "             +------------+                  +-------------------------------+     \n",
            "             | ChatOpenAI |                  | Lambda(itemgetter('context')) |     \n",
            "             +------------+**                +-------------------------------+     \n",
            "                             ***                  ***                              \n",
            "                                ****          ****                                 \n",
            "                                    **      **                                     \n",
            "                       +----------------------------------+                        \n",
            "                       | Parallel<response,context>Output |                        \n",
            "                       +----------------------------------+                        \n"
          ]
        }
      ]
    },
    {
      "cell_type": "markdown",
      "source": [
        "Let's try another visual representation:\n",
        "\n",
        "![image](https://i.imgur.com/Ad31AhL.png)"
      ],
      "metadata": {
        "id": "1bQVzN_eX1M2"
      }
    },
    {
      "cell_type": "markdown",
      "source": [
        "Let's test our chain out!"
      ],
      "metadata": {
        "id": "_0C5CFRHOxtB"
      }
    },
    {
      "cell_type": "code",
      "source": [
        "response = retrieval_augmented_qa_chain.invoke({\"question\" : \"What is the most important thing about the iPhone?\"})"
      ],
      "metadata": {
        "id": "JSDyVefDaue4"
      },
      "execution_count": 42,
      "outputs": []
    },
    {
      "cell_type": "code",
      "source": [
        "response[\"response\"].content"
      ],
      "metadata": {
        "colab": {
          "base_uri": "https://localhost:8080/",
          "height": 53
        },
        "id": "yfEAoG3HLC3J",
        "outputId": "62292cc6-5a51-4058-892e-acd3efec4844"
      },
      "execution_count": 43,
      "outputs": [
        {
          "output_type": "execute_result",
          "data": {
            "text/plain": [
              "\"The most important thing about the iPhone, as highlighted in the provided context, is its revolutionary design and functionality that combine multiple advanced features. It includes a multi-touch screen, miniaturization, custom silicon, power management, OSX inside a mobile device, advanced sensors, desktop-class applications, and a widescreen video iPod. The iPhone is described as the ultimate digital device, representing significant innovation and the ability to have one's life in their pocket.\""
            ],
            "application/vnd.google.colaboratory.intrinsic+json": {
              "type": "string"
            }
          },
          "metadata": {},
          "execution_count": 43
        }
      ]
    },
    {
      "cell_type": "code",
      "source": [
        "for context in response[\"context\"]:\n",
        "  print(\"Context:\")\n",
        "  print(context)\n",
        "  print(\"----\")"
      ],
      "metadata": {
        "colab": {
          "base_uri": "https://localhost:8080/"
        },
        "id": "FSZFdCM5LFoq",
        "outputId": "7c9bf456-be09-49d5-ad25-a0c8212c4251"
      },
      "execution_count": 44,
      "outputs": [
        {
          "output_type": "stream",
          "name": "stdout",
          "text": [
            "Context:\n",
            "page_content='of the art in every facet of this design. So let me just talk a little bit about it here. We’ve got\\nthe multi-touch screen. A first. Miniaturization, more than any we’ve done before. A lot of\\ncustom silicon. Tremendous power management. OSX inside a mobile device. Featherweight\\nprecision enclosures. Three advanced sensors. Desktop class applications, and of course, the\\nwidescreen video iPod. We’ve been innovating like crazy for the last few years on this, and\\nwe filed for over 200 patents for all the inventions in iPhone, and we intend to protect them.\\nSo, a lot of high technology. I think we’re advancing the state of the art in every aspect of\\nthis design. So iPhone is like having your life in your pocket. It’s the ultimate digital device.' metadata={'source': 'https://singjupost.com/wp-content/uploads/2014/07/Steve-Jobs-iPhone-2007-Presentation-Full-Transcript.pdf', 'file_path': 'https://singjupost.com/wp-content/uploads/2014/07/Steve-Jobs-iPhone-2007-Presentation-Full-Transcript.pdf', 'page': 17, 'total_pages': 22, 'format': 'PDF 1.4', 'title': 'Steve Jobs iPhone 2007 Presentation (Full Transcript)', 'author': 'Married Wildebeest', 'subject': '', 'keywords': '', 'creator': '', 'producer': 'mPDF 7.0.3', 'creationDate': \"20200415062431+00'00'\", 'modDate': \"20200415062431+00'00'\", 'trapped': '', '_id': '9aa905d510cf46ba851b05d9a0d7a3fe', '_collection_name': \"Steve Job's Speech\"}\n",
            "----\n",
            "Context:\n",
            "page_content='what’s on any other phone. Now how do we do this? Well, we start with a strong foundation.\\niPhone runs OSX.\\nNow, why would we want to run such a sophisticated operating system on a mobile\\ndevice? Well, because it’s got everything we need. It’s got multi-tasking. It’s got the best\\nnetworking. It already knows how to power manage. We’ve been doing this on mobile\\ncomputers for years. It’s got awesome security. And the right apps. It’s got everything from\\nCocoa and the graphics and it’s got core animation built in and it’s got the audio and video\\nthat OSX is famous for. It’s got all the stuff we want. And it’s built right in to iPhone. And\\nthat has let us create desktop class applications and networking. Not the crippled stuff that\\nyou find on most phones. This is real, desktop-class applications.' metadata={'source': 'https://singjupost.com/wp-content/uploads/2014/07/Steve-Jobs-iPhone-2007-Presentation-Full-Transcript.pdf', 'file_path': 'https://singjupost.com/wp-content/uploads/2014/07/Steve-Jobs-iPhone-2007-Presentation-Full-Transcript.pdf', 'page': 2, 'total_pages': 22, 'format': 'PDF 1.4', 'title': 'Steve Jobs iPhone 2007 Presentation (Full Transcript)', 'author': 'Married Wildebeest', 'subject': '', 'keywords': '', 'creator': '', 'producer': 'mPDF 7.0.3', 'creationDate': \"20200415062431+00'00'\", 'modDate': \"20200415062431+00'00'\", 'trapped': '', '_id': '7c04d3ba3c5d426991534b9796fdc7c4', '_collection_name': \"Steve Job's Speech\"}\n",
            "----\n",
            "Context:\n",
            "page_content='you think. They told me this, they said, You had me at scrolling. So, the iPhone with the\\nmost amazing iPod ever. You can now touch your music. So that’s the iPod.\\nNow, let’s take a look at a revolutionary phone. We want to reinvent the phone. Now, what’s\\nthe killer app? The killer app is making calls! It’s amazing — it’s amazing how hard it is to\\nmake calls on most phones. Most people actually dial them every time. Most people don’t\\nhave very many numbers in their address book they use their recents as their address book.\\nRight? How many of you do that? I bet more than a few. So, we want to let you use contacts\\nlike never before. You can synch your iPhone with your PC or Mac and bring down all your\\ncontacts right into your phone. So you’ve got everybody’s numbers with you at all times.' metadata={'source': 'https://singjupost.com/wp-content/uploads/2014/07/Steve-Jobs-iPhone-2007-Presentation-Full-Transcript.pdf', 'file_path': 'https://singjupost.com/wp-content/uploads/2014/07/Steve-Jobs-iPhone-2007-Presentation-Full-Transcript.pdf', 'page': 6, 'total_pages': 22, 'format': 'PDF 1.4', 'title': 'Steve Jobs iPhone 2007 Presentation (Full Transcript)', 'author': 'Married Wildebeest', 'subject': '', 'keywords': '', 'creator': '', 'producer': 'mPDF 7.0.3', 'creationDate': \"20200415062431+00'00'\", 'modDate': \"20200415062431+00'00'\", 'trapped': '', '_id': '90ca3604a7fc40c7ad70f32c2c59bbb8', '_collection_name': \"Steve Job's Speech\"}\n",
            "----\n",
            "Context:\n",
            "page_content='you set up what you want synched to your iPhone. And it’s just like an iPod. Charge and\\nsynch. So synch with iTunes.\\nThird thing I want to talk about a little is design. We’ve designed something wonderful for\\nyour hand, just wonderful. This is what it looks like. It’s got a three-and-a-half-inch screen\\non it. It’s really big. And, it’s the highest-resolution screen we’ve ever shipped. It’s 160\\npixels per inch. Highest we’ve ever shipped. It’s gorgeous. And on the front, there’s only one\\nbutton down there. We call it the Home button. Takes you Home from wherever you are.\\nAnd that’s it.\\nLet’s take a look at the side. It’s really thin. It’s thinner than any smartphone out there, at' metadata={'source': 'https://singjupost.com/wp-content/uploads/2014/07/Steve-Jobs-iPhone-2007-Presentation-Full-Transcript.pdf', 'file_path': 'https://singjupost.com/wp-content/uploads/2014/07/Steve-Jobs-iPhone-2007-Presentation-Full-Transcript.pdf', 'page': 3, 'total_pages': 22, 'format': 'PDF 1.4', 'title': 'Steve Jobs iPhone 2007 Presentation (Full Transcript)', 'author': 'Married Wildebeest', 'subject': '', 'keywords': '', 'creator': '', 'producer': 'mPDF 7.0.3', 'creationDate': \"20200415062431+00'00'\", 'modDate': \"20200415062431+00'00'\", 'trapped': '', '_id': '7b47938f7e434afb94fd8279f0772834', '_collection_name': \"Steve Job's Speech\"}\n",
            "----\n"
          ]
        }
      ]
    },
    {
      "cell_type": "markdown",
      "source": [
        "Let's see if it can handle a query that is totally unrelated to the source documents."
      ],
      "metadata": {
        "id": "nagiJ6l6noPL"
      }
    },
    {
      "cell_type": "code",
      "source": [
        "response = retrieval_augmented_qa_chain.invoke({\"question\" : \"What is the airspeed velocity of an unladen swallow?\"})"
      ],
      "metadata": {
        "id": "HOd2nJKZnsty"
      },
      "execution_count": 45,
      "outputs": []
    },
    {
      "cell_type": "code",
      "source": [
        "response[\"response\"].content"
      ],
      "metadata": {
        "colab": {
          "base_uri": "https://localhost:8080/",
          "height": 36
        },
        "id": "TmLCKNGZLTh6",
        "outputId": "e6c12aa8-f3a9-460d-e628-2088610d3bf3"
      },
      "execution_count": 46,
      "outputs": [
        {
          "output_type": "execute_result",
          "data": {
            "text/plain": [
              "\"I don't know.\""
            ],
            "application/vnd.google.colaboratory.intrinsic+json": {
              "type": "string"
            }
          },
          "metadata": {},
          "execution_count": 46
        }
      ]
    },
    {
      "cell_type": "markdown",
      "source": [
        "####❓ Question #4:\n",
        "\n",
        "What key innovations did the iPhone introduce?\n",
        "\n",
        "> HINT: Use your RAG Chain to answer this question.\n"
      ],
      "metadata": {
        "id": "EvkSiGXrPMYw"
      }
    },
    {
      "cell_type": "code",
      "source": [
        "answer = retrieval_augmented_qa_chain.invoke({\"question\" : \"What key innovations did the iPhone introduce?\"})\n",
        "print(answer[\"response\"].content)\n",
        "for context in response[\"context\"]:\n",
        "  print(\"Context:\")\n",
        "  print(context)\n",
        "  print(\"----\")"
      ],
      "metadata": {
        "colab": {
          "base_uri": "https://localhost:8080/"
        },
        "id": "cpaD3zIwq0nj",
        "outputId": "47e2a0eb-440a-456d-ec05-1ba0500e8e79"
      },
      "execution_count": 48,
      "outputs": [
        {
          "output_type": "stream",
          "name": "stdout",
          "text": [
            "The iPhone introduced several key innovations:\n",
            "\n",
            "1. **Widescreen iPod with Touch Controls**: The iPhone incorporated a widescreen iPod that users could control with touch, allowing them to interact with their music in a new and intuitive way.\n",
            "\n",
            "2. **Revolutionary Mobile Phone**: It aimed to reinvent the phone, making it easier to make calls and manage contacts. Users could sync their iPhone with their PC or Mac to have all their contacts readily available.\n",
            "\n",
            "3. **Breakthrough Internet Communications Device**: The iPhone combined the functionalities of a phone, an iPod, and an internet communicator into a single device.\n",
            "\n",
            "4. **Multi-Touch Screen**: This was the first time a multi-touch screen was used, allowing for a more interactive and user-friendly experience.\n",
            "\n",
            "5. **Advanced Sensors**: The iPhone included three advanced sensors that enhanced its functionality.\n",
            "\n",
            "6. **OSX in a Mobile Device**: It featured the OSX operating system, bringing desktop-class applications to a mobile device.\n",
            "\n",
            "7. **Miniaturization and Custom Silicon**: The iPhone boasted significant advancements in miniaturization and custom silicon, contributing to its compact and powerful design.\n",
            "\n",
            "8. **Featherweight Precision Enclosures**: The device was designed with lightweight yet precise enclosures, contributing to its sleek and portable form factor.\n",
            "\n",
            "9. **Power Management**: The iPhone included advanced power management to optimize its performance and battery life.\n",
            "\n",
            "10. **Over 200 Patents**: Apple filed for over 200 patents for the inventions in the iPhone, highlighting the extensive innovation involved in its creation.\n",
            "\n",
            "Overall, the iPhone was described as \"the ultimate digital device\" that advanced the state of the art in every aspect of its design.\n",
            "Context:\n",
            "page_content='All right, now I want to show you something incredible. I want to show you Safari running\\non a mobile device. So let’s go to the Web, and here we are. I’m going to load in, rather than\\napple.com here, a more universal site. I’m going to load in the New York Times, it’s kind of\\na slow site because it’s got a lot of images, but here we’re loading and we’re loading over\\nwi-fi right now. And rather than just give you a WAP version of the New York Times, rather\\nthan giving you this wrapped version all around, we’re showing you the whole New York\\nTimes Web site, and there it is. Guess what I can do, I can just put this into landscape mode,\\nand there it is right there. And I can scroll here if I want. Scroll up and down here. Still' metadata={'source': 'https://singjupost.com/wp-content/uploads/2014/07/Steve-Jobs-iPhone-2007-Presentation-Full-Transcript.pdf', 'file_path': 'https://singjupost.com/wp-content/uploads/2014/07/Steve-Jobs-iPhone-2007-Presentation-Full-Transcript.pdf', 'page': 11, 'total_pages': 22, 'format': 'PDF 1.4', 'title': 'Steve Jobs iPhone 2007 Presentation (Full Transcript)', 'author': 'Married Wildebeest', 'subject': '', 'keywords': '', 'creator': '', 'producer': 'mPDF 7.0.3', 'creationDate': \"20200415062431+00'00'\", 'modDate': \"20200415062431+00'00'\", 'trapped': '', '_id': '9a7126347b964538b80299748313d4ec', '_collection_name': \"Steve Job's Speech\"}\n",
            "----\n",
            "Context:\n",
            "page_content='© 2020 The Singju Post\\nunbelievable, wait until you see it. We have widgets, starting off with weather and stocks.\\nAnd this communicates with the Internet over EDGE and Wi-fi. And iPhone automatically\\ndetects Wi-fi and switches seamlessly to it. You don’t have to manage the network. It just\\ndoes the right thing.\\nNow, I want to take a second and talk about e-mail. We hook up to almost any IMAP or\\nPOP3 mail service. I just want to give you some examples. IMAP of course is the best\\nbecause you can keep folders and all your e-mail on the server and access it from anywhere.\\nYahoo Mail is IMAP. Microsoft Exchange has an IMAP option. And obviously. Mac mail is\\nIMAP, as well. POP3, Google Gmail, AOL Mail, and most ISPs are POP3 e-mail.' metadata={'source': 'https://singjupost.com/wp-content/uploads/2014/07/Steve-Jobs-iPhone-2007-Presentation-Full-Transcript.pdf', 'file_path': 'https://singjupost.com/wp-content/uploads/2014/07/Steve-Jobs-iPhone-2007-Presentation-Full-Transcript.pdf', 'page': 10, 'total_pages': 22, 'format': 'PDF 1.4', 'title': 'Steve Jobs iPhone 2007 Presentation (Full Transcript)', 'author': 'Married Wildebeest', 'subject': '', 'keywords': '', 'creator': '', 'producer': 'mPDF 7.0.3', 'creationDate': \"20200415062431+00'00'\", 'modDate': \"20200415062431+00'00'\", 'trapped': '', '_id': '0d97743642914097a92ed801642f929b', '_collection_name': \"Steve Job's Speech\"}\n",
            "----\n",
            "Context:\n",
            "page_content='We have something that’s going to revolutionize voice mail. We call it visual voice mail.\\nWouldn’t it be great if you had six voice mails if you didn’t have to listen to five of them first\\nbefore you wanted to listen to the sixth? Wouldn’t that be great if you had random access\\nvoice mail? Well, we’ve got it. Just like e-mail you can go directly to the voice mails that\\ninterest you. Excellent audio quality. iPhone is a quad-band, GSM plus EDGE phone. We\\nhave decided to go with the most popular international standard, which is GSM. We’re on\\nthat bandwagon, headed on that roadmap, and plan to make 3G phones and all sorts of\\namazing things in the future. So, quad-band GSM plus EDGE, and of course we have wi-fi\\nand Bluetooth 2.0 EDR built in, as well.' metadata={'source': 'https://singjupost.com/wp-content/uploads/2014/07/Steve-Jobs-iPhone-2007-Presentation-Full-Transcript.pdf', 'file_path': 'https://singjupost.com/wp-content/uploads/2014/07/Steve-Jobs-iPhone-2007-Presentation-Full-Transcript.pdf', 'page': 6, 'total_pages': 22, 'format': 'PDF 1.4', 'title': 'Steve Jobs iPhone 2007 Presentation (Full Transcript)', 'author': 'Married Wildebeest', 'subject': '', 'keywords': '', 'creator': '', 'producer': 'mPDF 7.0.3', 'creationDate': \"20200415062431+00'00'\", 'modDate': \"20200415062431+00'00'\", 'trapped': '', '_id': 'a8f61057e1324f35bcde91d92d9d9bb9', '_collection_name': \"Steve Job's Speech\"}\n",
            "----\n",
            "Context:\n",
            "page_content='© 2020 The Singju Post\\nthings in as well. So it’s real e-mail, just like you’re used to on your computer, right here on\\nyour phone. It’s extraordinary. And again, free IMAP e-mail from Yahoo!.\\nNow, let me go ahead and create an e-mail message. Show you what that’s like. So again,\\nwhen I don’t need a keyboard it’s not there. When I do, it’s there. I want to send a message\\nto, let’s say, Phil. I just type Ph, and boom, Phil Schiller, it’s address completion and maybe\\nI’ll send one to Scott Forrestal, as well, and there’s Scott right there, and let’s say the\\nsubject is dinner. Boom, and I just hit send. It sends that e-mail, and we’re done. So that is\\nmail. Full desktop class e-mail running on a mobile device.' metadata={'source': 'https://singjupost.com/wp-content/uploads/2014/07/Steve-Jobs-iPhone-2007-Presentation-Full-Transcript.pdf', 'file_path': 'https://singjupost.com/wp-content/uploads/2014/07/Steve-Jobs-iPhone-2007-Presentation-Full-Transcript.pdf', 'page': 11, 'total_pages': 22, 'format': 'PDF 1.4', 'title': 'Steve Jobs iPhone 2007 Presentation (Full Transcript)', 'author': 'Married Wildebeest', 'subject': '', 'keywords': '', 'creator': '', 'producer': 'mPDF 7.0.3', 'creationDate': \"20200415062431+00'00'\", 'modDate': \"20200415062431+00'00'\", 'trapped': '', '_id': '4e890ed416d240e480e9c7b7064f2f9c', '_collection_name': \"Steve Job's Speech\"}\n",
            "----\n"
          ]
        }
      ]
    }
  ]
}